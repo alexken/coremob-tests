{
  "nbformat": 4,
  "nbformat_minor": 0,
  "metadata": {
    "colab": {
      "name": "Alexken’ Python Code.ipynb",
      "version": "0.3.2",
      "provenance": [],
      "include_colab_link": true
    },
    "kernelspec": {
      "name": "python3",
      "display_name": "Python 3"
    },
    "accelerator": "GPU"
  },
  "cells": [
    {
      "cell_type": "markdown",
      "metadata": {
        "id": "view-in-github",
        "colab_type": "text"
      },
      "source": [
        "<a href=\"https://colab.research.google.com/github/alexken/coremob-tests/blob/master/Alexken%E2%80%99_Python_Code.ipynb\" target=\"_parent\"><img src=\"https://colab.research.google.com/assets/colab-badge.svg\" alt=\"Open In Colab\"/></a>"
      ]
    },
    {
      "metadata": {
        "id": "slYU6YDI0Ot8",
        "colab_type": "code",
        "outputId": "e813384e-4119-4240-9019-af004b815b5f",
        "colab": {
          "base_uri": "https://localhost:8080/",
          "height": 737
        }
      },
      "cell_type": "code",
      "source": [
        "'''Trains a simple convnet on the MNIST dataset.\n",
        "Gets to 99.25% test accuracy after 12 epochs\n",
        "(there is still a lot of margin for parameter tuning).\n",
        "16 seconds per epoch on a GRID K520 GPU.\n",
        "'''\n",
        "\n",
        "from __future__ import print_function\n",
        "import keras\n",
        "from keras.datasets import mnist\n",
        "from keras.models import Sequential\n",
        "from keras.layers import Dense, Dropout, Flatten\n",
        "from keras.layers import Conv2D, MaxPooling2D\n",
        "from keras import backend as K\n",
        "\n",
        "batch_size = 128\n",
        "num_classes = 10\n",
        "epochs = 12\n",
        "\n",
        "# input image dimensions\n",
        "img_rows, img_cols = 28, 28\n",
        "\n",
        "# the data, split between train and test sets\n",
        "(x_train, y_train), (x_test, y_test) = mnist.load_data()\n",
        "\n",
        "if K.image_data_format() == 'channels_first':\n",
        "    x_train = x_train.reshape(x_train.shape[0], 1, img_rows, img_cols)\n",
        "    x_test = x_test.reshape(x_test.shape[0], 1, img_rows, img_cols)\n",
        "    input_shape = (1, img_rows, img_cols)\n",
        "else:\n",
        "    x_train = x_train.reshape(x_train.shape[0], img_rows, img_cols, 1)\n",
        "    x_test = x_test.reshape(x_test.shape[0], img_rows, img_cols, 1)\n",
        "    input_shape = (img_rows, img_cols, 1)\n",
        "\n",
        "x_train = x_train.astype('float32')\n",
        "x_test = x_test.astype('float32')\n",
        "x_train /= 255\n",
        "x_test /= 255\n",
        "print('x_train shape:', x_train.shape)\n",
        "print(x_train.shape[0], 'train samples')\n",
        "print(x_test.shape[0], 'test samples')\n",
        "\n",
        "# convert class vectors to binary class matrices\n",
        "y_train = keras.utils.to_categorical(y_train, num_classes)\n",
        "y_test = keras.utils.to_categorical(y_test, num_classes)\n",
        "\n",
        "model = Sequential()\n",
        "model.add(Conv2D(32, kernel_size=(3, 3),\n",
        "                 activation='relu',\n",
        "                 input_shape=input_shape))\n",
        "model.add(Conv2D(64, (3, 3), activation='relu'))\n",
        "model.add(MaxPooling2D(pool_size=(2, 2)))\n",
        "model.add(Dropout(0.25))\n",
        "model.add(Flatten())\n",
        "model.add(Dense(128, activation='relu'))\n",
        "model.add(Dropout(0.5))\n",
        "model.add(Dense(num_classes, activation='softmax'))\n",
        "\n",
        "model.compile(loss=keras.losses.categorical_crossentropy,\n",
        "              optimizer=keras.optimizers.Adadelta(),\n",
        "              metrics=['accuracy'])\n",
        "\n",
        "model.fit(x_train, y_train,\n",
        "          batch_size=batch_size,\n",
        "          epochs=epochs,\n",
        "          verbose=1,\n",
        "          validation_data=(x_test, y_test))\n",
        "score = model.evaluate(x_test, y_test, verbose=0)\n",
        "print('Test loss:', score[0])\n",
        "print('Test accuracy:', score[1])"
      ],
      "execution_count": 1,
      "outputs": [
        {
          "output_type": "stream",
          "text": [
            "Using TensorFlow backend.\n"
          ],
          "name": "stderr"
        },
        {
          "output_type": "stream",
          "text": [
            "x_train shape: (60000, 28, 28, 1)\n",
            "60000 train samples\n",
            "10000 test samples\n",
            "WARNING:tensorflow:From /usr/local/lib/python3.6/dist-packages/tensorflow/python/framework/op_def_library.py:263: colocate_with (from tensorflow.python.framework.ops) is deprecated and will be removed in a future version.\n",
            "Instructions for updating:\n",
            "Colocations handled automatically by placer.\n",
            "WARNING:tensorflow:From /usr/local/lib/python3.6/dist-packages/keras/backend/tensorflow_backend.py:3445: calling dropout (from tensorflow.python.ops.nn_ops) with keep_prob is deprecated and will be removed in a future version.\n",
            "Instructions for updating:\n",
            "Please use `rate` instead of `keep_prob`. Rate should be set to `rate = 1 - keep_prob`.\n",
            "WARNING:tensorflow:From /usr/local/lib/python3.6/dist-packages/tensorflow/python/ops/math_ops.py:3066: to_int32 (from tensorflow.python.ops.math_ops) is deprecated and will be removed in a future version.\n",
            "Instructions for updating:\n",
            "Use tf.cast instead.\n",
            "Train on 60000 samples, validate on 10000 samples\n",
            "Epoch 1/12\n",
            "60000/60000 [==============================] - 10s 173us/step - loss: 0.2732 - acc: 0.9175 - val_loss: 0.0558 - val_acc: 0.9822\n",
            "Epoch 2/12\n",
            "60000/60000 [==============================] - 9s 144us/step - loss: 0.0933 - acc: 0.9731 - val_loss: 0.0423 - val_acc: 0.9861\n",
            "Epoch 3/12\n",
            "60000/60000 [==============================] - 9s 143us/step - loss: 0.0704 - acc: 0.9793 - val_loss: 0.0365 - val_acc: 0.9877\n",
            "Epoch 4/12\n",
            "60000/60000 [==============================] - 9s 143us/step - loss: 0.0562 - acc: 0.9836 - val_loss: 0.0309 - val_acc: 0.9893\n",
            "Epoch 5/12\n",
            "60000/60000 [==============================] - 9s 143us/step - loss: 0.0495 - acc: 0.9853 - val_loss: 0.0295 - val_acc: 0.9890\n",
            "Epoch 6/12\n",
            "60000/60000 [==============================] - 9s 144us/step - loss: 0.0426 - acc: 0.9870 - val_loss: 0.0313 - val_acc: 0.9891\n",
            "Epoch 7/12\n",
            "60000/60000 [==============================] - 9s 143us/step - loss: 0.0399 - acc: 0.9878 - val_loss: 0.0333 - val_acc: 0.9895\n",
            "Epoch 8/12\n",
            "60000/60000 [==============================] - 9s 144us/step - loss: 0.0355 - acc: 0.9893 - val_loss: 0.0275 - val_acc: 0.9908\n",
            "Epoch 9/12\n",
            "60000/60000 [==============================] - 9s 144us/step - loss: 0.0327 - acc: 0.9900 - val_loss: 0.0301 - val_acc: 0.9904\n",
            "Epoch 10/12\n",
            "60000/60000 [==============================] - 8s 142us/step - loss: 0.0326 - acc: 0.9903 - val_loss: 0.0262 - val_acc: 0.9916\n",
            "Epoch 11/12\n",
            "60000/60000 [==============================] - 9s 143us/step - loss: 0.0300 - acc: 0.9908 - val_loss: 0.0284 - val_acc: 0.9916\n",
            "Epoch 12/12\n",
            "60000/60000 [==============================] - 9s 143us/step - loss: 0.0282 - acc: 0.9912 - val_loss: 0.0275 - val_acc: 0.9915\n",
            "Test loss: 0.027493744115694153\n",
            "Test accuracy: 0.9915\n"
          ],
          "name": "stdout"
        }
      ]
    }
  ]
}